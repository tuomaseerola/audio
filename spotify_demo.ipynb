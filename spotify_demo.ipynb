{
  "nbformat": 4,
  "nbformat_minor": 0,
  "metadata": {
    "colab": {
      "name": "spotify_demo.ipynb",
      "private_outputs": true,
      "provenance": [],
      "collapsed_sections": [],
      "authorship_tag": "ABX9TyO1Lv3XO7k1qWSnlJ3dwgdF",
      "include_colab_link": true
    },
    "kernelspec": {
      "name": "python3",
      "display_name": "Python 3"
    },
    "language_info": {
      "name": "python"
    }
  },
  "cells": [
    {
      "cell_type": "markdown",
      "metadata": {
        "id": "view-in-github",
        "colab_type": "text"
      },
      "source": [
        "<a href=\"https://colab.research.google.com/github/tuomaseerola/audio/blob/master/spotify_demo.ipynb\" target=\"_parent\"><img src=\"https://colab.research.google.com/assets/colab-badge.svg\" alt=\"Open In Colab\"/></a>"
      ]
    },
    {
      "cell_type": "code",
      "execution_count": null,
      "metadata": {
        "id": "SyXL021W2coy"
      },
      "outputs": [],
      "source": [
        "!pip install spotipy --upgrade\n",
        "import spotipy\n",
        "from spotipy.oauth2 import SpotifyClientCredentials"
      ]
    },
    {
      "cell_type": "code",
      "source": [
        "from getpass import getpass\n",
        "CLIENTID = getpass('Enter the CLIENTID: ')\n",
        "CLIENTSECRET = getpass('Enter the CLIENTSECRET: ')"
      ],
      "metadata": {
        "id": "KHc4k7GZ3jKQ"
      },
      "execution_count": null,
      "outputs": []
    },
    {
      "cell_type": "code",
      "source": [
        "sp = spotipy.Spotify(auth_manager=SpotifyClientCredentials(client_id=CLIENTID,client_secret=CLIENTSECRET))"
      ],
      "metadata": {
        "id": "Ag92etf52oER"
      },
      "execution_count": null,
      "outputs": []
    },
    {
      "cell_type": "code",
      "source": [
        "results = sp.search(q='Coldplay', limit=5)\n",
        "for idx, track in enumerate(results['tracks']['items']):\n",
        "    print(idx, track['name'])"
      ],
      "metadata": {
        "id": "iMZU2H7q2osh"
      },
      "execution_count": null,
      "outputs": []
    },
    {
      "cell_type": "code",
      "source": [
        "track = results['tracks']['items'][0]\n",
        "print(track['name'])\n",
        "print(track['popularity'])"
      ],
      "metadata": {
        "id": "hZ8MoG_Z23Ua"
      },
      "execution_count": null,
      "outputs": []
    },
    {
      "cell_type": "code",
      "source": [
        "print(track.keys(), '\\n')\n",
        "low_level_features = sp.audio_analysis(track['id'])\n",
        "print(list(low_level_features.keys()), '\\n')\n",
        "high_level_features = sp.audio_features(track['id'])\n",
        "#print(list(high_level_features[0].keys()), '\\n')\n",
        "print(high_level_features)"
      ],
      "metadata": {
        "id": "8iBJaZ5n8CBh"
      },
      "execution_count": null,
      "outputs": []
    },
    {
      "cell_type": "code",
      "source": [
        "from IPython.display import Audio, display\n",
        "url = track.get('preview_url')\n",
        "Audio(url+\".mp3\") if url else None"
      ],
      "metadata": {
        "id": "UYklzJHD4n04"
      },
      "execution_count": null,
      "outputs": []
    },
    {
      "cell_type": "code",
      "source": [
        "high_level_features"
      ],
      "metadata": {
        "id": "ZX0uAsVJ_3ta"
      },
      "execution_count": null,
      "outputs": []
    }
  ]
}