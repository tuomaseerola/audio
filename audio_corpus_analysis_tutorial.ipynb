{
  "nbformat": 4,
  "nbformat_minor": 0,
  "metadata": {
    "colab": {
      "name": "audio_analysis_tutorial.ipynb",
      "private_outputs": true,
      "provenance": [],
      "collapsed_sections": [],
      "include_colab_link": true
    },
    "kernelspec": {
      "name": "python3",
      "display_name": "Python 3"
    },
    "language_info": {
      "name": "python"
    }
  },
  "cells": [
    {
      "cell_type": "markdown",
      "metadata": {
        "id": "view-in-github",
        "colab_type": "text"
      },
      "source": [
        "<a href=\"https://colab.research.google.com/github/tuomaseerola/audio/blob/master/audio_corpus_analysis_tutorial.ipynb\" target=\"_parent\"><img src=\"https://colab.research.google.com/assets/colab-badge.svg\" alt=\"Open In Colab\"/></a>"
      ]
    },
    {
      "cell_type": "markdown",
      "metadata": {
        "id": "WTO_mMkGJCci"
      },
      "source": [
        "# Music and Science – Audio Corpus Analysis Tutorial \n",
        "\n",
        "[Tuomas Eerola](https://www.durham.ac.uk/staff/tuomas-eerola/), Durham University, Music Department, 2022."
      ]
    },
    {
      "cell_type": "code",
      "metadata": {
        "id": "r3LSkxYNS5nY"
      },
      "source": [
        "#PROMPT: Press the play button to set up the technical system (import libraries etc.)\n",
        "import os\n",
        "import numpy as np\n",
        "import librosa\n",
        "import librosa.display\n",
        "import IPython.display as ipd\n",
        "from matplotlib import pyplot as plt \n",
        "%matplotlib inline\n",
        "print(librosa.__version__)"
      ],
      "execution_count": null,
      "outputs": []
    },
    {
      "cell_type": "markdown",
      "source": [
        "Install mirdata"
      ],
      "metadata": {
        "id": "tvPBl4QteUDC"
      }
    },
    {
      "cell_type": "code",
      "source": [
        "pip install mirdata"
      ],
      "metadata": {
        "id": "S21mnM51cQBH"
      },
      "execution_count": null,
      "outputs": []
    },
    {
      "cell_type": "markdown",
      "metadata": {
        "id": "Z2SD2rhaHDF9"
      },
      "source": [
        "# 1. Obtain a dataset\n",
        "\n",
        "Let's look at the classic genre categorization dataset by Tzanetakis. "
      ]
    },
    {
      "cell_type": "code",
      "metadata": {
        "id": "trn2ya5RNovU"
      },
      "source": [
        "import mirdata\n",
        "print(mirdata.list_datasets())\n",
        "gtzan_genre = mirdata.initialize('gtzan_genre')"
      ],
      "execution_count": null,
      "outputs": []
    },
    {
      "cell_type": "code",
      "source": [
        "gtzan_genre.track_ids[999]"
      ],
      "metadata": {
        "id": "ODGHL-kZdPIw"
      },
      "execution_count": null,
      "outputs": []
    },
    {
      "cell_type": "code",
      "source": [
        "gtzan = mirdata.initialize('gtzan_genre', version='mini')\n",
        "gtzan.download()\n",
        "len(gtzan.track_ids)\n"
      ],
      "metadata": {
        "id": "-iOnROLScj6P"
      },
      "execution_count": null,
      "outputs": []
    },
    {
      "cell_type": "code",
      "source": [
        "tracks = gtzan.load_tracks()\n",
        "print(tracks.keys())\n",
        "ex = tracks[gtzan.track_ids[0]]\n",
        "print(ex)\n"
      ],
      "metadata": {
        "id": "awl0RzCgcmcH"
      },
      "execution_count": null,
      "outputs": []
    },
    {
      "cell_type": "code",
      "source": [
        "from librosa.core import audio\n",
        "import numpy as np\n",
        "print(ex)\n",
        "ex.audio_path\n",
        "\n",
        "import librosa\n",
        "import matplotlib.pyplot as plt\n",
        "import librosa.display\n",
        "librosa.display.waveshow(ex.audio[0],ex.audio[1])"
      ],
      "metadata": {
        "id": "fOLqJi8bcpzw"
      },
      "execution_count": null,
      "outputs": []
    },
    {
      "cell_type": "markdown",
      "source": [
        "## Extract features\n",
        "\n",
        "Let's extract some features and use them to predict genre."
      ],
      "metadata": {
        "id": "G2y2Sd86yV9i"
      }
    },
    {
      "cell_type": "code",
      "source": [
        "import numpy as np\n",
        "import librosa\n",
        "import librosa.display\n",
        "\n",
        "import pandas as pd\n",
        "import os\n",
        "import csv\n",
        "import sys\n",
        "import natsort\n",
        "import warnings\n",
        "warnings.filterwarnings('ignore')\n",
        "\n",
        "df = pd.DataFrame(columns = ['genre','rmse', 'spec_cent','spec_bw','rolloff','zcr','mfcc1','mfcc2','mfcc3','mfcc4','mfcc5','mfcc6','mfcc7','mfcc8','mfcc9','mfcc10','mfcc11','mfcc12','mfcc13','mfcc14','mfcc15','mfcc16','mfcc17','mfcc18','mfcc19']) \n",
        "for track in tracks:\n",
        "  print(track)\n",
        "  ex = tracks[track]\n",
        "  y, sr = librosa.load(ex.audio_path)\n",
        "  chroma_stft = librosa.feature.chroma_stft(y=y, sr=sr)\n",
        "  rmse = librosa.feature.rms(y=y)\n",
        "  spec_cent = librosa.feature.spectral_centroid(y=y, sr=sr)\n",
        "  spec_bw = librosa.feature.spectral_bandwidth(y=y, sr=sr)\n",
        "  rolloff = librosa.feature.spectral_rolloff(y=y, sr=sr)\n",
        "  zcr = librosa.feature.zero_crossing_rate(y)\n",
        "  mfcc = librosa.feature.mfcc(y=y, sr=sr)\n",
        "  df.loc[len(df)] = [ex.genre,np.mean(rmse),np.mean(spec_cent),np.mean(spec_bw),np.mean(rolloff),np.mean(zcr),np.mean(mfcc[1]),np.mean(mfcc[2]),np.mean(mfcc[3]),np.mean(mfcc[4]),np.mean(mfcc[5]),np.mean(mfcc[6]),np.mean(mfcc[7]),np.mean(mfcc[8]),np.mean(mfcc[9]),np.mean(mfcc[10]),np.mean(mfcc[11]),np.mean(mfcc[12]),np.mean(mfcc[13]),np.mean(mfcc[14]),np.mean(mfcc[15]),np.mean(mfcc[16]),np.mean(mfcc[17]),np.mean(mfcc[18]),np.mean(mfcc[19])]\n"
      ],
      "metadata": {
        "id": "IhTz8C53lbn3"
      },
      "execution_count": null,
      "outputs": []
    },
    {
      "cell_type": "markdown",
      "source": [
        "## Classify\n"
      ],
      "metadata": {
        "id": "GiUVZ4u1MO-l"
      }
    },
    {
      "cell_type": "code",
      "source": [
        "ex = tracks[track]\n",
        "y, sr = librosa.load(ex.audio_path)\n",
        "mfcc = librosa.feature.mfcc(y=y, sr=sr)\n",
        "len(mfcc)\n"
      ],
      "metadata": {
        "id": "Nr0JK3nNQFS-"
      },
      "execution_count": null,
      "outputs": []
    },
    {
      "cell_type": "code",
      "source": [
        "df.head(3)\n"
      ],
      "metadata": {
        "id": "SPT0u2o6CtGd"
      },
      "execution_count": null,
      "outputs": []
    },
    {
      "cell_type": "code",
      "source": [
        "from sklearn import preprocessing\n",
        "\n",
        "X = df.drop('genre', axis = 1)\n",
        "X = preprocessing.normalize(X)\n",
        "y = df['genre']\n",
        "from sklearn.neighbors import KNeighborsClassifier\n",
        "from sklearn.model_selection import train_test_split\n",
        "from sklearn import metrics\n",
        "test_size = 0.30 # taking 70:30 training and test set\n",
        "seed = 7  # Random numbmer seeding for reapeatability of the code\n",
        "X_train, X_test, y_train, y_test = train_test_split(X, y, test_size=test_size, random_state=seed)\n",
        "NN = KNeighborsClassifier()\n",
        "NN.fit(X_train,y_train)\n"
      ],
      "metadata": {
        "id": "IPOB7ge1MvsS"
      },
      "execution_count": null,
      "outputs": []
    },
    {
      "cell_type": "code",
      "source": [
        "y_pred = NN.predict(X_test)\n",
        "from sklearn.metrics import accuracy_score\n",
        "accuracy_score(y_pred,y_test)\n"
      ],
      "metadata": {
        "id": "1fqvz0YgNTcW"
      },
      "execution_count": null,
      "outputs": []
    },
    {
      "cell_type": "code",
      "source": [
        "metrics.confusion_matrix(y_test, y_pred)"
      ],
      "metadata": {
        "id": "IsNutuuqOVhv"
      },
      "execution_count": null,
      "outputs": []
    },
    {
      "cell_type": "code",
      "source": [
        "print((\"Test accuracy: \", NN.score(X_test, y_test)))\n",
        "print((\"Train accuracy: \",NN.score(X_train, y_train)))"
      ],
      "metadata": {
        "id": "zV1FStkzNWrv"
      },
      "execution_count": null,
      "outputs": []
    },
    {
      "cell_type": "code",
      "source": [
        "from sklearn.model_selection import cross_val_score\n",
        "print(X_train.shape[0])\n",
        "print (int(np.sqrt(X_train.shape[0])))\n",
        "maxK = int(np.sqrt(X_train.shape[0]))\n",
        "print(maxK)"
      ],
      "metadata": {
        "id": "2CcocRGINd67"
      },
      "execution_count": null,
      "outputs": []
    },
    {
      "cell_type": "code",
      "source": [
        "# creating odd list of K for KNN\n",
        "myList = list(range(1,15))\n",
        "# subsetting just the odd ones\n",
        "neighbors = list(filter(lambda x: x % 2 != 0, myList))"
      ],
      "metadata": {
        "id": "ZjtFrWrNO5i1"
      },
      "execution_count": null,
      "outputs": []
    },
    {
      "cell_type": "code",
      "source": [
        "# empty list that will hold cv scores\n",
        "cv_scores = []\n",
        "# perform 10-fold cross validation\n",
        "for k in neighbors:\n",
        "    knn = KNeighborsClassifier(n_neighbors=k)\n",
        "    scores = cross_val_score(knn, X_train, y_train, cv=8, scoring='accuracy')\n",
        "    cv_scores.append(scores.mean())"
      ],
      "metadata": {
        "id": "fWIXhtB_Ozq1"
      },
      "execution_count": null,
      "outputs": []
    },
    {
      "cell_type": "code",
      "source": [
        "# changing to misclassification error\n",
        "misError = [1 - x for x in cv_scores]\n",
        "print(misError)"
      ],
      "metadata": {
        "id": "fgBkxsh0O1iF"
      },
      "execution_count": null,
      "outputs": []
    },
    {
      "cell_type": "code",
      "source": [
        "optimal_k = neighbors[misError.index(min(misError))]\n",
        "print(\"The optimal number of neighbors is %d\" % optimal_k)"
      ],
      "metadata": {
        "id": "PNB1W0BaPak9"
      },
      "execution_count": null,
      "outputs": []
    },
    {
      "cell_type": "markdown",
      "source": [
        "Visualise"
      ],
      "metadata": {
        "id": "tmFgnU2dTK1b"
      }
    },
    {
      "cell_type": "code",
      "source": [
        "df.head(3)"
      ],
      "metadata": {
        "id": "Y3duMVBGTk79"
      },
      "execution_count": null,
      "outputs": []
    },
    {
      "cell_type": "code",
      "source": [
        "df.drop('genre', axis=1).plot(kind='box', subplots=True,figsize=(15,15), layout=(5,5), sharex=False, sharey=False)\n",
        "#plt.savefig('fruits_box')\n",
        "plt.show()"
      ],
      "metadata": {
        "id": "2acV4dukTKSE"
      },
      "execution_count": null,
      "outputs": []
    },
    {
      "cell_type": "code",
      "source": [
        ""
      ],
      "metadata": {
        "id": "rkei6FKVUenV"
      },
      "execution_count": null,
      "outputs": []
    }
  ]
}